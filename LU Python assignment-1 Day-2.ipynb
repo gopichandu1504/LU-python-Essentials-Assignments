{
 "cells": [
  {
   "cell_type": "markdown",
   "metadata": {},
   "source": [
    "# Question-1"
   ]
  },
  {
   "cell_type": "raw",
   "metadata": {},
   "source": [
    "1.Try 5 Different functions of the String in Python.\n",
    " For example - index, split function"
   ]
  },
  {
   "cell_type": "code",
   "execution_count": 8,
   "metadata": {},
   "outputs": [
    {
     "name": "stdout",
     "output_type": "stream",
     "text": [
      "Enter some String:hi, I am Gopi, and I am here to learn Python from LetsUpgrade.\n",
      "\n",
      "My string is:hi, I am Gopi, and I am here to learn Python from LetsUpgrade.\n",
      "\n",
      "Hi, i am gopi, and i am here to learn python from letsupgrade.\n",
      "\n",
      "String in upper case:HI, I AM GOPI, AND I AM HERE TO LEARN PYTHON FROM LETSUPGRADE.\n",
      "\n",
      "Number of o's: 4\n",
      "\n",
      "Index of 'Python': 38\n",
      "\n",
      "split string based on ',': ['hi', ' I am Gopi', ' and I am here to learn Python from LetsUpgrade.']\n"
     ]
    }
   ],
   "source": [
    "string=input(\"Enter some String:\")\n",
    "print()\n",
    "print(\"My string is:\"+string)\n",
    "print()\n",
    "print(string.capitalize()) # Capitalize function converts first character of string to upper.\n",
    "print()\n",
    "print(\"String in upper case:\"+string.upper()) # Converts a string in upper case\n",
    "print()\n",
    "print(\"Number of o's:\",string.count(\"o\")) # Returns how many times the value occured in string\n",
    "print()\n",
    "print(\"Index of 'Python':\",string.find(\"Python\")) # Searches for a specified value in string and returns the index of that value\n",
    "print()\n",
    "print(\"split string based on ',':\",string.split(\",\")) # splits the string at specified seperator and returns a list"
   ]
  },
  {
   "cell_type": "markdown",
   "metadata": {},
   "source": [
    "# Question-2"
   ]
  },
  {
   "cell_type": "raw",
   "metadata": {},
   "source": [
    "Try 5 Different functions of the List object in Python"
   ]
  },
  {
   "cell_type": "code",
   "execution_count": 26,
   "metadata": {},
   "outputs": [
    {
     "name": "stdout",
     "output_type": "stream",
     "text": [
      "<class 'list'>\n",
      "\n",
      "Adding element 'Gopi' at index 5: [1, 2, 3, 4, 'LetsUpgrade', 'Gopi', 20.5, 'Python', [6, 7], {1: 'G', 2: 'Lets', 3: 'Upgrade'}]\n",
      "\n",
      "Element '4' removed at index 3: [1, 2, 3, 'LetsUpgrade', 'Gopi', 20.5, 'Python', [6, 7], {1: 'G', 2: 'Lets', 3: 'Upgrade'}]\n",
      "\n",
      "Reversed list is: [{1: 'G', 2: 'Lets', 3: 'Upgrade'}, [6, 7], 'Python', 20.5, 'Gopi', 'LetsUpgrade', 3, 2, 1]\n",
      "\n",
      "Copy of l is: [{1: 'G', 2: 'Lets', 3: 'Upgrade'}, [6, 7], 'Python', 20.5, 'Gopi', 'LetsUpgrade', 3, 2, 1]\n",
      "\n",
      "List is cleared: []\n"
     ]
    }
   ],
   "source": [
    "l=[1,2,3,4,\"LetsUpgrade\",20.5,\"Python\",[6,7],{1:'G',2:'Lets',3:'Upgrade'}]\n",
    "print(type(l))\n",
    "print()\n",
    "l.insert(5,'Gopi') # Adds an element at specified position\n",
    "print(\"Adding element 'Gopi' at index 5:\",l)\n",
    "print()\n",
    "l.pop(3) # Removes an element at specified position\n",
    "print(\"Element '4' removed at index 3:\",l)\n",
    "print()\n",
    "l.reverse()# reverse the order of the list\n",
    "print(\"Reversed list is:\",l)\n",
    "print()\n",
    "l1=l.copy() # Returns the copy of list\n",
    "print(\"Copy of l is:\",l1)\n",
    "print()\n",
    "l.clear() # clears all the elements in the list\n",
    "print(\"List is cleared:\",l)"
   ]
  },
  {
   "cell_type": "markdown",
   "metadata": {},
   "source": [
    "# Question-3"
   ]
  },
  {
   "cell_type": "raw",
   "metadata": {},
   "source": [
    "Experiment with at least 5 default functions of Dictionary"
   ]
  },
  {
   "cell_type": "code",
   "execution_count": 29,
   "metadata": {},
   "outputs": [
    {
     "name": "stdout",
     "output_type": "stream",
     "text": [
      "Specified value for key 'c' is: LetsUpgrade\n",
      "\n",
      "Items in d are: dict_items([(1, 'a'), (2, 'A'), (3, [1, 2, 3]), (4, {'a': 1, 'b': 2}), ('c', 'LetsUpgrade')])\n",
      "\n",
      "value of 5 is : {1: 'a', 2: 'A', 3: [1, 2, 3], 4: {'a': 1, 'b': 2}, 'c': 'LetsUpgrade', 5: 'python'}\n",
      "\n",
      "updated dictionary, after value update for key '2': {1: 'a', 2: 'b', 3: [1, 2, 3], 4: {'a': 1, 'b': 2}, 'c': 'LetsUpgrade', 5: 'python'}\n",
      "\n",
      "Dictionary after poping item: {1: 'a', 2: 'b', 3: [1, 2, 3], 4: {'a': 1, 'b': 2}, 'c': 'LetsUpgrade'}\n"
     ]
    }
   ],
   "source": [
    "d={1:'a',2:'A',3:[1,2,3],4:{'a':1,'b':2},'c':'LetsUpgrade'}\n",
    "print(\"Specified value for key 'c' is:\",d.get('c')) # Returns the value of specified key\n",
    "print()\n",
    "print(\"Items in d are:\",d.items()) # Returns list containing a tuple for each key value pair\n",
    "print()\n",
    "d.setdefault(5,'python') # Returns the value of the specified key.If it is not present, insert the key with specified value\n",
    "print(\"value of 5 is :\",d)\n",
    "print()\n",
    "d.update({2:'b'})\n",
    "print(\"updated dictionary, after value update for key '2':\",d)\n",
    "print()\n",
    "d.popitem() # removes last inserted key-value pair\n",
    "print(\"Dictionary after poping item:\",d)"
   ]
  },
  {
   "cell_type": "code",
   "execution_count": null,
   "metadata": {},
   "outputs": [],
   "source": []
  }
 ],
 "metadata": {
  "kernelspec": {
   "display_name": "Python 3",
   "language": "python",
   "name": "python3"
  },
  "language_info": {
   "codemirror_mode": {
    "name": "ipython",
    "version": 3
   },
   "file_extension": ".py",
   "mimetype": "text/x-python",
   "name": "python",
   "nbconvert_exporter": "python",
   "pygments_lexer": "ipython3",
   "version": "3.8.3"
  }
 },
 "nbformat": 4,
 "nbformat_minor": 4
}
