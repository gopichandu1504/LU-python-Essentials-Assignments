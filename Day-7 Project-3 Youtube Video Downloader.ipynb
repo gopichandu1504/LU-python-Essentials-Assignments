{
 "cells": [
  {
   "cell_type": "code",
   "execution_count": 2,
   "metadata": {},
   "outputs": [
    {
     "name": "stdout",
     "output_type": "stream",
     "text": [
      "Collecting pytube\n",
      "  Downloading pytube-10.0.0-py3-none-any.whl (40 kB)\n",
      "Requirement already satisfied: typing-extensions in c:\\programdata\\anaconda3\\lib\\site-packages (from pytube) (3.7.4.2)\n",
      "Installing collected packages: pytube\n",
      "Successfully installed pytube-10.0.0\n",
      "Note: you may need to restart the kernel to use updated packages.\n"
     ]
    }
   ],
   "source": [
    "pip install pytube"
   ]
  },
  {
   "cell_type": "code",
   "execution_count": 2,
   "metadata": {},
   "outputs": [],
   "source": [
    "from tkinter import *"
   ]
  },
  {
   "cell_type": "code",
   "execution_count": null,
   "metadata": {},
   "outputs": [],
   "source": [
    "from pytube import YouTube\n",
    "root=Tk()\n",
    "\n",
    "root.geometry(\"600x300+200+200\")\n",
    "root.title(\"YouTube Video Downloader\")\n",
    "root.configure(background=\"#F5F5F5\")\n",
    "root.resizable(width=False, height=False)\n",
    "def Youtube():\n",
    "    link=var.get()\n",
    "    ytubevideo=YouTube(link).streams.filter(file_extension='mp4').order_by('resolution').desc().first()\n",
    "    ytubevideo.download(\"H:\\\\Lets Upgrade\\\\Python\")\n",
    "l1=Label(root,text=\"YouTube Video Link\",fg=\"red\",font=(\"bold\",10))\n",
    "l1.place(x=90,y=100)\n",
    "var=StringVar()\n",
    "e1=Entry(root,textvariable=var,width=60)\n",
    "e1.place(x=220,y=100)\n",
    "b1=Button(root,text=\"Download\",bg=\"Green\",width=10,fg=\"White\", command=Youtube)\n",
    "b1.place(x=350,y=140)\n",
    "root.mainloop()"
   ]
  },
  {
   "cell_type": "code",
   "execution_count": null,
   "metadata": {},
   "outputs": [],
   "source": []
  }
 ],
 "metadata": {
  "kernelspec": {
   "display_name": "Python 3",
   "language": "python",
   "name": "python3"
  },
  "language_info": {
   "codemirror_mode": {
    "name": "ipython",
    "version": 3
   },
   "file_extension": ".py",
   "mimetype": "text/x-python",
   "name": "python",
   "nbconvert_exporter": "python",
   "pygments_lexer": "ipython3",
   "version": "3.8.3"
  }
 },
 "nbformat": 4,
 "nbformat_minor": 4
}
