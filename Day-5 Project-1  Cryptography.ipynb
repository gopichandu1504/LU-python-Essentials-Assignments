{
 "cells": [
  {
   "cell_type": "markdown",
   "metadata": {},
   "source": [
    "# Day-5 Project-1"
   ]
  },
  {
   "cell_type": "markdown",
   "metadata": {},
   "source": [
    "# Cryptography"
   ]
  },
  {
   "cell_type": "code",
   "execution_count": null,
   "metadata": {},
   "outputs": [],
   "source": [
    "#installing cryptography for our requirement \n",
    "pip install cryptography"
   ]
  },
  {
   "cell_type": "code",
   "execution_count": 84,
   "metadata": {},
   "outputs": [
    {
     "name": "stdout",
     "output_type": "stream",
     "text": [
      "Enter Message to encrypt: I Love LetsUpgrade\n",
      "Encrypted Message is:  b'gAAAAABf2JdZpCDb7FQml7SWFTVbGK29Yy-wZz-MizIaKswBTQ069gOBbEbkyejc7lZtKxsNO1QgfRw947Cof3WWAi9kXYR1sZ7VRiGXaZqQ8pHbBCYQ-2o='\n",
      "Decrypted Message is:  I Love LetsUpgrade\n"
     ]
    }
   ],
   "source": [
    "#importing Fernet from cryptography for generating a key and encrypting and decrypting message using that key.\n",
    "#Note:-instead of writing below functions for generating key,encryption and decrption, fernet module has in built generate_key(),encrypt(),decrypt() functions.\n",
    "from cryptography.fernet import Fernet\n",
    "def generate_Key():\n",
    "    key=Fernet.generate_key()  # generating key from fernet and storing it in a variable 'key'\n",
    "    keyfile=open('storekey.txt','wb')\n",
    "    keyfile.write(key) # writing generated binary key to file named 'storekey' for sharing it to receiver to decrypt.\n",
    "    keyfile.close()\n",
    "    \n",
    "def get_key():\n",
    "    return open('storekey.txt','rb').read()\n",
    "def encrypt_Message(message):\n",
    "    key=get_key()\n",
    "    f=Fernet(key)\n",
    "    encrypted_Message=f.encrypt(message.encode())\n",
    "    print(\"Encrypted Message is: \",encrypted_Message)\n",
    "    return encrypted_Message\n",
    "    \n",
    "    \n",
    "def decrypt_Message(encrypted_Message):\n",
    "    key=get_key()\n",
    "    f=Fernet(key)\n",
    "    decrypted_message=f.decrypt(encrypted_Message)\n",
    "    print(\"Decrypted Message is: \",decrypted_message.decode())\n",
    "    #return decrypted_message\n",
    "message=input(\"Enter Message to encrypt: \")\n",
    "encrypted_Message=encrypt_Message(message)\n",
    "decrypt_Message(encrypted_Message)\n",
    "\n"
   ]
  },
  {
   "cell_type": "code",
   "execution_count": null,
   "metadata": {},
   "outputs": [],
   "source": []
  }
 ],
 "metadata": {
  "kernelspec": {
   "display_name": "Python 3",
   "language": "python",
   "name": "python3"
  },
  "language_info": {
   "codemirror_mode": {
    "name": "ipython",
    "version": 3
   },
   "file_extension": ".py",
   "mimetype": "text/x-python",
   "name": "python",
   "nbconvert_exporter": "python",
   "pygments_lexer": "ipython3",
   "version": "3.8.3"
  }
 },
 "nbformat": 4,
 "nbformat_minor": 4
}
